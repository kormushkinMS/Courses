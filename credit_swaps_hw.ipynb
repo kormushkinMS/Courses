{
 "cells": [
  {
   "cell_type": "markdown",
   "metadata": {},
   "source": [
    " Шаг 1. Вычислим функцию выживания  S (она понадобится для шага 2) и благодаря ней получим вероятность дефолта через год. Использованы доходности безрисковых государственных облигаций Германии и рискованного эмитента - Италии. Посмотрим на значения функции 1-S(t) в точках 1,2,3,5."
   ]
  },
  {
   "cell_type": "code",
   "execution_count": 50,
   "metadata": {},
   "outputs": [
    {
     "data": {
      "text/plain": [
       "0.008096449581655674"
      ]
     },
     "execution_count": 50,
     "metadata": {},
     "output_type": "execute_result"
    }
   ],
   "source": [
    "import numpy as np\n",
    "import matplotlib.pyplot as plt\n",
    "R=0.4 #recovery rate\n",
    "S0=1\n",
    "rg1=-0.00647\n",
    "rg2=-0.0064\n",
    "rg3=-0.0066\n",
    "rg5=-0.00609\n",
    "rc1=-0.00162\n",
    "rc2=0.00025\n",
    "rc3=0.00071\n",
    "rc5=0.00569\n",
    "def S(T,r_g,r_c):\n",
    "    return 1-(1-((1+r_g)/(1+r_c))**T)/(1-R)\n",
    "1-S(1,rg1,rc1)"
   ]
  },
  {
   "cell_type": "code",
   "execution_count": 72,
   "metadata": {},
   "outputs": [
    {
     "data": {
      "image/png": "[encoded data removed]",
      "text/plain": [
       "<Figure size 432x288 with 1 Axes>"
      ]
     },
     "metadata": {
      "needs_background": "light"
     },
     "output_type": "display_data"
    }
   ],
   "source": [
    "X=np.array([1-S(1,rg1,rc1),1-S(2,rg2,rc2),1-S(3,rg3,rc3),1-S(5,rg5,rc5)])\n",
    "plt.bar([1,2,3,5],X ,color = 'orange')\n",
    "plt.yticks(np.arange(0,0.11,0.01))\n",
    "plt.xlabel(\"Год\")\n",
    "plt.ylabel(\"Вероятность дефолта\")\n",
    "plt.show()"
   ]
  },
  {
   "cell_type": "markdown",
   "metadata": {},
   "source": [
    "Шаг 2. Напишем функцию вычисления справедливой цены свопа по заданным доходностям на 5 лет и recovery rate. Используем линейную интерполяцию."
   ]
  },
  {
   "cell_type": "code",
   "execution_count": 53,
   "metadata": {},
   "outputs": [],
   "source": [
    "def price (R,rg1,rg2,rg3,rg5,rc1,rc2,rc3,rc5):\n",
    "    Si=np.zeros(21,float)\n",
    "    Si[0]=S0\n",
    "    Si[2]=0.5*(S(1,rg1,rc1)+Si[0])\n",
    "    Si[1]=0.5*(Si[2]+Si[0])\n",
    "    Si[3]= 0.5*(S(1,rg1,rc1)+Si[2])    \n",
    "    Si[4]=S(1,rg1,rc1)\n",
    "    Si[6]= 0.5*(S(2,rg2,rc2)+S(1,rg1,rc1))\n",
    "    Si[5]= 0.5*(Si[6]+S(1,rg1,rc1))\n",
    "    Si[7]= 0.5*(Si[6]+S(2,rg2,rc2))\n",
    "    Si[8]=S(2,rg2,rc2)\n",
    "    Si[10]= 0.5*(S(3,rg3,rc3)+S(2,rg2,rc2))\n",
    "    Si[9]= 0.5*(Si[10]+S(2,rg2,rc2))\n",
    "    Si[11]= 0.5*(Si[10]+S(3,rg3,rc3))\n",
    "    Si[12]=S(3,rg3,rc3)\n",
    "    Si[16]= 0.5*(S(5,rg5,rc5)+S(3,rg3,rc3))\n",
    "    Si[14]= 0.5*(Si[16]+S(3,rg3,rc3))\n",
    "    Si[13]= 0.5*(Si[14]+S(3,rg3,rc3))\n",
    "    Si[15]= 0.5*(Si[14]+Si[16])\n",
    "    Si[18]= 0.5*(Si[16]+S(5,rg5,rc5))\n",
    "    Si[17]= 0.5*(Si[16]+Si[18])\n",
    "    Si[19]= 0.5*(S(5,rg5,rc5)+Si[18])\n",
    "    Si[20]=S(5,rg5,rc5)\n",
    "    return 4*(1-R)*(1-Si[20])/(sum(Si)-1)\n"
   ]
  },
  {
   "cell_type": "code",
   "execution_count": 54,
   "metadata": {},
   "outputs": [
    {
     "data": {
      "text/plain": [
       "0.011898671541038188"
      ]
     },
     "execution_count": 54,
     "metadata": {},
     "output_type": "execute_result"
    }
   ],
   "source": [
    "price(R,rg1,rg2,rg3,rg5,rc1,rc2,rc3,rc5)"
   ]
  },
  {
   "cell_type": "markdown",
   "metadata": {},
   "source": [
    "Шаг 3. Посмотрим на зависимость цены свопа от recovery rate облигации с фиксированными доходностями. Увидим, что они обратно пропорциональны. Произвольно увеличим доходности по рискованным облигациям и посмотрим на цену свопа в таком случае. Увидим, что цена увеличилась."
   ]
  },
  {
   "cell_type": "code",
   "execution_count": 70,
   "metadata": {},
   "outputs": [
    {
     "data": {
      "image/png": "[encoded data removed]",
      "text/plain": [
       "<Figure size 432x288 with 1 Axes>"
      ]
     },
     "metadata": {
      "needs_background": "light"
     },
     "output_type": "display_data"
    }
   ],
   "source": [
    "y=price(np.arange(0.1,0.8,0.05),rg1,rg2,rg3,rg5,rc1,rc2,rc3,rc5)\n",
    "plt.plot(np.arange(0.1,0.8,0.05),y)\n",
    "plt.yticks(np.arange(0.003,0.019,0.001))\n",
    "plt.xticks(np.arange(0.1,0.8,0.05))\n",
    "plt.title(\"Зависимость цены страховки от recovery rate\")\n",
    "plt.show()"
   ]
  },
  {
   "cell_type": "code",
   "execution_count": 69,
   "metadata": {},
   "outputs": [
    {
     "data": {
      "text/plain": [
       "0.015081930665118735"
      ]
     },
     "execution_count": 69,
     "metadata": {},
     "output_type": "execute_result"
    }
   ],
   "source": [
    "Rc1=-0.00032 \n",
    "Rc2=0.00085 \n",
    "Rc3=0.0091\n",
    "Rc5=0.00869\n",
    "Y=price(R,rg1,rg2,rg3,rg5,Rc1,Rc2,Rc3,Rc5)\n",
    "Y"
   ]
  }
 ],
 "metadata": {
  "kernelspec": {
   "display_name": "Python 3",
   "language": "python",
   "name": "python3"
  },
  "language_info": {
   "codemirror_mode": {
    "name": "ipython",
    "version": 3
   },
   "file_extension": ".py",
   "mimetype": "text/x-python",
   "name": "python",
   "nbconvert_exporter": "python",
   "pygments_lexer": "ipython3",
   "version": "3.7.4"
  }
 },
 "nbformat": 4,
 "nbformat_minor": 2
}
