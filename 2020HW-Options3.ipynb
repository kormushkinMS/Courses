{
 "cells": [
  {
   "cell_type": "markdown",
   "metadata": {
    "collapsed": false
   },
   "source": [
    "# Задача 1"
   ]
  },
  {
   "cell_type": "markdown",
   "metadata": {
    "collapsed": false
   },
   "source": [
    "Реализовать функции для расчета цены Европейкого или Американкого опциона используя биномиальную модель."
   ]
  },
  {
   "cell_type": "code",
   "execution_count": 1,
   "metadata": {
    "ExecuteTime": {
     "end_time": "2020-04-12T09:36:43.367670Z",
     "start_time": "2020-04-12T09:36:43.348821Z"
    },
    "collapsed": false
   },
   "outputs": [
   ],
   "source": [
    "def gen_lattice(S0, u, d, N):\n",
    "    \"\"\"generates a binomial lattice\n",
    "    \n",
    "    for a given up, down, start value and number of steps (N).\n",
    "    Resulting lattice has N+1 levels.\n",
    "    \"\"\"\n",
    "    S = [float(S0)]\n",
    "\n",
    "    for i in range(1, N+1):\n",
    "        for j in range(0, i+1):\n",
    "            S.append( S0 * d**j * u**(i-j) )\n",
    "\n",
    "    return S\n",
    "\n",
    "#def lattice_levels(S):\n",
    "#    return int( round( (m.sqrt(8*len(S)+1)-1)/2 ) )"
   ]
  },
  {
   "cell_type": "code",
   "execution_count": 4,
   "metadata": {
    "ExecuteTime": {
     "end_time": "2020-04-12T09:36:44.538418Z",
     "start_time": "2020-04-12T09:36:44.520066Z"
    },
    "collapsed": false
   },
   "outputs": [
    {
     "name": "stdout",
     "output_type": "stream",
     "text": [
      "3.6.9 (default, Nov  7 2019, 10:44:02) \n",
      "[GCC 8.3.0]\n"
     ]
    }
   ],
   "source": [
    "import sys\n",
    "print (sys.version)\n",
    "#if sys.version_info >= (3,4):\n",
    "#    print( \"with enums\" )\n",
    "\n",
    "from enum import Enum\n",
    "class CallPut(Enum):\n",
    "    call = 1\n",
    "    put = 2\n",
    "\n",
    "class ExerciseStyle(Enum):\n",
    "    euro = 1\n",
    "    amer = 2"
   ]
  },
  {
   "cell_type": "code",
   "execution_count": 4,
   "metadata": {
    "ExecuteTime": {
     "end_time": "2020-04-12T09:36:47.068685Z",
     "start_time": "2020-04-12T09:36:45.248859Z"
    },
    "collapsed": false
   },
   "outputs": [
    {
     "name": "stdout",
     "output_type": "stream",
     "text": [
      "10.448584103764572\n"
     ]
    },
    {
     "name": "stdout",
     "output_type": "stream",
     "text": [
      "5.571526553833685\n"
     ]
    },
    {
     "name": "stdout",
     "output_type": "stream",
     "text": [
      "10.448584103764572\n"
     ]
    },
    {
     "name": "stdout",
     "output_type": "stream",
     "text": [
      "6.089595282977953\n"
     ]
    }
   ],
   "source": [
    "def pv_crr(amerEuro, callPut, S0, K, T, r, sigma, N):\n",
    "    import math as m\n",
    "    dt = T / N\n",
    "    df = m.exp(-r * dt)\n",
    "\n",
    "    u = m.exp(sigma * m.sqrt(dt))\n",
    "    d = 1 / u\n",
    "    p = ( m.exp(r * dt) - d ) / (u - d)\n",
    "\n",
    "    S = gen_lattice(S0=S0, N=N, u=u, d=d)\n",
    "    L = N+1 #lattice_levels(S)\n",
    "    \n",
    "    payoff = lambda x: max( 0, x - K ) if CallPut.call == callPut else max( 0, K - x)\n",
    "\n",
    "    # Calculate payoff at the last lattice level\n",
    "    for i in range(len(S)-L,len(S)):\n",
    "        S[i]=payoff(S[i])\n",
    "\n",
    "    # Go backwards, calculate extected value for prev node, based on known nodes\n",
    "    # Calculate payoff at node k, based on expected value of S\n",
    "    #пробегаемся с обратную сторону по узлам\n",
    "    k=len(S)-L-1\n",
    "    for i in reversed(range(1, L)):\n",
    "        for j in range(0, i):\n",
    "            if amerEuro ==  ExerciseStyle.euro :\n",
    "                S[k] = df*(p*S[k+i] + (1-p)*S[k+i+1])    \n",
    "            else:\n",
    "                S[k] = max( df*(p*S[k+i] + (1-p)*S[k+i+1]), payoff(S[k]) )   \n",
    "            k = k - 1\n",
    "    \n",
    "    return S[0], S\n",
    "\n",
    "# parameters\n",
    "S0 = 100.\n",
    "T = 1.\n",
    "r = 0.05\n",
    "sigma = 0.20\n",
    "K = 100.\n",
    "N = 1000\n",
    "\n",
    "es = ExerciseStyle.euro\n",
    "pvC, _ = pv_crr(es, CallPut.call, S0=S0, K=K, T=T, r=r, sigma=sigma, N=N)\n",
    "print( pvC )\n",
    "pvP, _ = pv_crr(es, CallPut.put, S0=S0, K=K, T=T, r=r, sigma=sigma, N=N)\n",
    "print( pvP )\n",
    "\n",
    "es = ExerciseStyle.amer\n",
    "pvC, _ = pv_crr(es, CallPut.call, S0=S0, K=K, T=T, r=r, sigma=sigma, N=N)\n",
    "print( pvC )\n",
    "pvP, _ = pv_crr(es, CallPut.put, S0=S0, K=K, T=T, r=r, sigma=sigma, N=N)\n",
    "print( pvP )"
   ]
  },
  {
   "cell_type": "markdown",
   "metadata": {
    "collapsed": false
   },
   "source": [
    "# Задача 2"
   ]
  },
  {
   "cell_type": "markdown",
   "metadata": {
    "collapsed": false
   },
   "source": [
    "Напишите код для расчета цены европейского и барьерного опционов для модели Хестона\n",
    "\n",
    "Сделайте расчет\n",
    "\n",
    "    * implied волотильности для европейского опциона\n",
    "    * цены барьерного опциона knock-out \n",
    "    "
   ]
  },
  {
   "cell_type": "code",
   "execution_count": 1,
   "metadata": {
    "ExecuteTime": {
     "end_time": "2020-04-12T09:37:01.083521Z",
     "start_time": "2020-04-12T09:37:01.072114Z"
    },
    "collapsed": false
   },
   "outputs": [
   ],
   "source": [
    "# Параметры оционов\n",
    "S0 = 80.; K = 85.; T = 1.0\n",
    "B=110\n",
    "#\n",
    "r = 0.05\n",
    "# Параметры модели\n",
    "sigma0 = 0.2  # значение волатальности в начальный момент времени\n",
    "long_term_variance = 0.25  # долгосрочный средний уровень дисперсии\n",
    "mean_revertion_rate = 0.02 # скорость возврата к среднему\n",
    "vol_of_vol=0.05  # волатильность волатильности\n",
    "corr=0.07 # корреляция случайных факторов в модели"
   ]
  },
  {
   "cell_type": "markdown",
   "metadata": {
    "collapsed": false
   },
   "source": [
    "Модель задается уравнениями:\n",
    "\n",
    "$$ dS_t = \\mu S_t\\,dt + \\sqrt{\\nu_t} S_t\\,dW_1 \\,$$\n",
    "\n",
    "$$ d\\nu_t = \\theta(\\omega - \\nu_t)dt + \\xi \\sqrt{\\nu_t}\\,dW_2$$\n",
    "\n",
    "где:\n",
    "\n",
    "   * $\\omega$ - долгосрочный средний уровень (long-term mean) \n",
    "   * $\\theta$ - скорость возврата к среднему \n",
    "   * $\\xi$ - волатильность волатильности\n",
    "   * $W_1 \\,$ и $W_2 \\,$ винеровские процессы, с корреляцией $\\rho \\,$.\n",
    "\n",
    "$$ \\left< dW_1\\, dW_2 \\right> = \\rho dt $$\n",
    "\n",
    "Есть разные схемы дискретизации для процесса $\\nu$ в модели Хестона.\n",
    "\n",
    "Для процесса $\\nu$ в модели Хестона будем использовать такой вариант схемы дискретизации:\n",
    "\n",
    "$$ \\nu_{t+dt} = \\left( \\sqrt{\\nu_t} + \\frac{1}{2}\\xi\\sqrt{dt}z_2 \\right)^2 + \\theta (\\omega - \\nu_t) dt - \\frac{1}{4}\\xi^2 dt $$\n",
    "\n",
    "где $z_2$ случайная величена распределенная по нормальному закону (соответствует процессу $W_2$ )\n",
    "\n",
    "См. Rouah F D. Euler and Milstein discretization.  http://www.frouah.com/finance%20notes/Euler%20and%20Milstein%20Discretization.pdf\n",
    " раздел \"2 Milstein Scheme\"\n",
    "\n",
    "\n",
    "Обратите внимание, что для генерации двух процессов нужно сгенерировать две случайные величены $z_1$ и $z_2$, которые бы были скорелированны с коэффицентом $\\rho$"
   ]
  },
  {
   "cell_type": "code",
   "execution_count": 7,
   "metadata": {
    "collapsed": false
   },
   "outputs": [
   ],
   "source": [
    "#Напишем функцию для вычисления стоимости опциона\n",
    "\n",
    "import numpy as np\n",
    "import math as m\n",
    "import scipy.optimize\n",
    "def standard_normal(I):\n",
    "    z = np.random.standard_normal(I)\n",
    "    mean = np.mean(z)\n",
    "    std = np.std(z)\n",
    "    return (z - mean)/std \n",
    "\n",
    "M = 360 # number of steps in time\n",
    "I = 50000 # number of paths to generate\n",
    "q=0\n",
    "def mc_KO(S0, K, T, r, sigma, M, I, B,call_put): \n",
    "    dt = float(T) / M\n",
    "    G=I\n",
    "    #вычисление цены, если барьер есть\n",
    "    if B is not None:\n",
    "        if call_put==CallPut.call:\n",
    "            if(S0>B):\n",
    "                return 0\n",
    "        else:\n",
    "            if(S0<B):\n",
    "                return 0\n",
    "    \n",
    "        S = [S0]\n",
    "        v=[sigma**2]\n",
    "        for t in range(1, M + 1):\n",
    "            #на каждом шаге оставляем лишь те траектории S (и соответсвующие им траектории v), которые не вышли за пределы B\n",
    "            #генерируем 2 сл.в. с заданной корреляцией\n",
    "            z1 = standard_normal(G)\n",
    "            z2= z1*corr+np.sqrt(1-corr**2)*standard_normal(G)\n",
    "            v_next=(np.sqrt(v[t-1])+0.5*vol_of_vol*m.sqrt(dt)*z2)**2 + mean_revertion_rate*(long_term_variance-v[t-1])*dt - 0.25*dt*(vol_of_vol)**2\n",
    "                                                       \n",
    "            #S_b = S[t - 1] * np.exp((r - 0.5 * v_next) * dt + np.sqrt(v_next) * m.sqrt(dt) * z1)\n",
    "            S_b = S[t - 1] * np.exp((r - 0.5 * v[t-1]) * dt + np.sqrt(v[t-1]) * m.sqrt(dt) * z1)\n",
    "\n",
    "            if  call_put == CallPut.call:\n",
    "                G = len(S_b[S_b < B])\n",
    "                S.append(S_b[S_b < B])\n",
    "                v.append(v_next[S_b < B])\n",
    "            else:\n",
    "                G = len(S_b[S_b > B])\n",
    "                S.append(S_b[S_b > B])\n",
    "                v.append(v_next[S_b > B])\n",
    "        \n",
    "        if call_put==CallPut.call:\n",
    "            C = np.sum(m.exp(-r * T) * np.maximum(S[-1] - K, 0)) / I\n",
    "        else:\n",
    "            C = np.sum(m.exp(-r * T) * np.maximum(-S[-1] + K, 0)) / I\n",
    "    \n",
    "    #вычисление цены обычного европейского\n",
    "    else:\n",
    "        v = np.zeros((M + 1, I))\n",
    "        v[0] = sigma**2\n",
    "        S = np.zeros((M + 1, I))\n",
    "        S[0] = S0\n",
    "        for t in range(1, M + 1):\n",
    "            #генерируем 2 сл.в. с заданной корреляцией\n",
    "            z1 = standard_normal(I)\n",
    "            z2= z1*corr+np.sqrt(1-corr**2)*standard_normal(I)\n",
    "            v[t]=(np.sqrt(v[t-1])+0.5*vol_of_vol*m.sqrt(dt)*z2)**2 + mean_revertion_rate*(long_term_variance-v[t-1])*dt - 0.25*dt*(vol_of_vol)**2\n",
    "                                                        \n",
    "            #S[t] = S[t - 1] * np.exp((r - 0.5 * v[t]) * dt + np.sqrt(v[t]) * m.sqrt(dt) * z1)\n",
    "            S[t] = S[t - 1] * np.exp((r - 0.5 * v[t-1]) * dt + np.sqrt(v[t-1]) * m.sqrt(dt) * z1)\n",
    "            \n",
    "        if call_put==CallPut.call:\n",
    "            C = np.sum(m.exp(-r * T) * np.maximum(S[-1] - K, 0)) / I\n",
    "        else:\n",
    "            C = np.sum(m.exp(-r * T) * np.maximum(-S[-1] + K, 0)) / I\n",
    "    \n",
    "    return C "
   ]
  },
  {
   "cell_type": "code",
   "execution_count": 8,
   "metadata": {
    "collapsed": false
   },
   "outputs": [
    {
     "name": "stdout",
     "output_type": "stream",
     "text": [
      "Цена европейского колл опциона: 6.165642\n"
     ]
    }
   ],
   "source": [
    "C=mc_KO(S0, K, T, r, sigma0, M, I, None,CallPut.call)\n",
    "print(\"Цена европейского колл опциона: %f\" %C)"
   ]
  },
  {
   "cell_type": "code",
   "execution_count": 9,
   "metadata": {
    "collapsed": false
   },
   "outputs": [
    {
     "name": "stdout",
     "output_type": "stream",
     "text": [
      "Цена барьерного колл опциона: 2.424434\n"
     ]
    }
   ],
   "source": [
    "Bar=mc_KO(S0, K, T, r, sigma0, M, I, B,CallPut.call)\n",
    "print(\"Цена барьерного колл опциона: %f\" %Bar)"
   ]
  },
  {
   "cell_type": "code",
   "execution_count": 10,
   "metadata": {
    "collapsed": false
   },
   "outputs": [
    {
     "name": "stdout",
     "output_type": "stream",
     "text": [
      "Implied volatility для европейского колл опциона: 0.205565\n"
     ]
    }
   ],
   "source": [
    "from scipy import stats\n",
    "def N(x):\n",
    "    return stats.norm.cdf(x, 0.0, 1.0)\n",
    "def bsm_d1(S, K, T, r, q, sigma):\n",
    "    return (np.log(S / K) + (r - q + 0.5 * sigma ** 2) * T) / (sigma * m.sqrt(T))\n",
    "\n",
    "def bsm_d2(S, K, T, r, q, sigma):\n",
    "    return (np.log(S / K) + (r - q - 0.5 * sigma ** 2) * T) / (sigma * m.sqrt(T))\n",
    "\n",
    "def bsm_pv(isCall, S, K, T, r, q, sigma):\n",
    "    d1 = bsm_d1(S, K, T, r, q, sigma)\n",
    "    d2 = bsm_d2(S, K, T, r, q, sigma)\n",
    "    if isCall==CallPut.call:\n",
    "        return S * N(d1) * m.exp(-q * T) - K * m.exp(-r * T) * N(d2)\n",
    "    else:\n",
    "        return K * N(-d2) * m.exp(-r * T)  - S * m.exp(-q * T) * N(-d1)\n",
    "\n",
    "#Найдем имплайд волатилити для европейского колла, чью цену уже посчитали\n",
    "\n",
    "def implied_vol(sigma):\n",
    "        return C-bsm_pv(CallPut.call, S0, K, T, r, q, sigma)\n",
    "    \n",
    "sigma=scipy.optimize.brentq(implied_vol, -1, 10)\n",
    "print(\"Implied volatility для европейского колл опциона: %lf\" %sigma)"
   ]
  },
  {
   "cell_type": "code",
   "execution_count": 0,
   "metadata": {
    "collapsed": false
   },
   "outputs": [
   ],
   "source": [
   ]
  }
 ],
 "metadata": {
  "hide_input": false,
  "kernelspec": {
   "display_name": "Python 3 (system-wide)",
   "language": "python",
   "metadata": {
    "cocalc": {
     "description": "Python 3 programming language",
     "priority": 100,
     "url": "https://www.python.org/"
    }
   },
   "name": "python3"
  },
  "language_info": {
   "codemirror_mode": {
    "name": "ipython",
    "version": 3
   },
   "file_extension": ".py",
   "mimetype": "text/x-python",
   "name": "python",
   "nbconvert_exporter": "python",
   "pygments_lexer": "ipython3",
   "version": "3.6.9"
  },
  "toc": {
   "nav_menu": {
   },
   "number_sections": true,
   "sideBar": true,
   "skip_h1_title": false,
   "title_cell": "Table of Contents",
   "title_sidebar": "Contents",
   "toc_cell": false,
   "toc_position": {
    "height": "calc(100% - 180px)",
    "left": "10px",
    "top": "150px",
    "width": "165px"
   },
   "toc_section_display": true,
   "toc_window_display": true
  }
 },
 "nbformat": 4,
 "nbformat_minor": 4
}