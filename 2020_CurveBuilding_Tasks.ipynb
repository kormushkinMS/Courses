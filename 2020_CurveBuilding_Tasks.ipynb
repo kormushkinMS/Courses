{
 "cells": [
  {
   "cell_type": "markdown",
   "metadata": {},
   "source": [
    "# Задача к лекции \"Восстановление кривой доходности\"\n",
    "Взять значения базовых ставок https://sebgroup.com/large-corporates-and-institutions/prospectuses-and-downloads/rates/base-rates\n",
    "и цену процентных свопов https://sebgroup.com/large-corporates-and-institutions/prospectuses-and-downloads/rates/swap-rates\n",
    "Восстановить кривую для Вашей валюты "
   ]
  },
  {
   "cell_type": "code",
   "execution_count": 24,
   "metadata": {
    "scrolled": true
   },
   "outputs": [
    {
     "name": "stdout",
     "output_type": "stream",
     "text": [
      "Task 1: 5Y curve forDKK\n"
     ]
    }
   ],
   "source": [
    "def getVariant(email):\n",
    "    ccy = ['NOK', 'SEK', 'DKK', 'EUR']\n",
    "    h = hash(email)\n",
    "    ccy1 = ccy[h % 5]\n",
    "    print ('Task 1: 5Y curve for' + ccy1)\n",
    "getVariant('matvey-21@yandex.ru')"
   ]
  },
  {
   "cell_type": "code",
   "execution_count": 3,
   "metadata": {
    "scrolled": true
   },
   "outputs": [
    {
     "name": "stdout",
     "output_type": "stream",
     "text": [
      "0.0010003713434593717 [0.00099975]\n"
     ]
    },
    {
     "data": {
      "text/plain": [
       "[<matplotlib.lines.Line2D at 0x131917abd0>]"
      ]
     },
     "execution_count": 3,
     "metadata": {},
     "output_type": "execute_result"
    },
    {
     "data": {
      "image/png": "[encoded data removed]",
      "text/plain": [
       "<Figure size 432x288 with 1 Axes>"
      ]
     },
     "metadata": {
      "needs_background": "light"
     },
     "output_type": "display_data"
    }
   ],
   "source": [
    "s0 = 0.0*1e-2\n",
    "s1 = 0.1*1e-2\n",
    "\n",
    "r0 = s0\n",
    "\n",
    "import numpy as np\n",
    "import scipy.optimize\n",
    "import scipy.interpolate\n",
    "import matplotlib.pyplot as pt\n",
    "\n",
    "# Дискаунт фактор из процентной ставки\n",
    "# для простоты капитализация процентов не учитывается\n",
    "def DF(L,m):\n",
    "    return 1.0 / (1.0 + L*m/12)\n",
    "\n",
    "def DF_exp(L,m):\n",
    "    return np.exp(-L*m/12)\n",
    "\n",
    "\n",
    "def S1(r12, r0, s1):\n",
    "    r6 = 0.5* (r0 + r12)\n",
    "    df6 = DF(r6, 6)\n",
    "    df12 = DF(r12, 12)\n",
    "    price = 2*(1 - df12) / (df6 + df12)\n",
    "    return price - s1\n",
    "\n",
    "def S1_loglin(r12, r0, s):\n",
    "    df12 = DF_exp(r12, 12)\n",
    "    df6 = np.sqrt(df12)\n",
    "    price = 2*(1 - df12) / (df6 + df12)\n",
    "    return price - s\n",
    "\n",
    "\n",
    "r12 = scipy.optimize.broyden1(lambda x: S1(x, r0, s1), r0)\n",
    "r12_loglin = scipy.optimize.fsolve(lambda x: S1_loglin(x, r0, s1), r0)\n",
    "\n",
    "print(r12, r12_loglin)\n",
    "\n",
    "pt.plot([0,12], [r0, r12])"
   ]
  },
  {
   "cell_type": "code",
   "execution_count": 5,
   "metadata": {},
   "outputs": [
    {
     "data": {
      "image/png": "[encoded data removed]",
      "text/plain": [
       "<Figure size 432x288 with 1 Axes>"
      ]
     },
     "metadata": {
      "needs_background": "light"
     },
     "output_type": "display_data"
    }
   ],
   "source": [
    "import numpy as np\n",
    "import scipy.optimize\n",
    "import scipy.interpolate\n",
    "import matplotlib.pyplot as plt\n",
    "\n",
    "s1=-0.45*1e-2\n",
    "s2=-0.47*1e-2\n",
    "s3=-0.46*1e-2\n",
    "s4=-0.44*1e-2\n",
    "s5=-0.42*1e-2\n",
    "r0=0*1e-2\n",
    "libors=[]\n",
    "libors.append(r0)\n",
    "# Дискаунт фактор из процентной ставки\n",
    "# для простоты капитализация процентов не учитывается\n",
    "\n",
    "#В самом задании использую непрерывное начисление процентов и лог-линейную интерполяцию. Функция соответствует непрерывному начислению, т.е это логарифм.\n",
    "#Промежуточные значения в середине года так же вычислены с помощью лог линейной интерполяции.\n",
    "\n",
    "def DF(L,m):\n",
    "    return 1.0 / (1.0 + L*m/12)\n",
    "\n",
    "def DF_exp(L,m):\n",
    "    return np.exp(-L*m/12)\n",
    "\n",
    "def rate(D,m):\n",
    "    return (np.log(1/D))*12/m\n",
    "\n",
    "def S1_loglin(r12, r0, s):\n",
    "    df12 = DF_exp(r12, 12)\n",
    "    df6 = np.sqrt(df12)\n",
    "    price = 2*(1 - df12) / (df6 + df12)\n",
    "    return price - s\n",
    "\n",
    "r12_loglin = scipy.optimize.broyden1(lambda x: S1_loglin(x, r0, s1), r0)\n",
    "df12 = DF_exp(r12_loglin, 12)\n",
    "df6 = np.sqrt(df12)\n",
    "r6=rate(df6,6)\n",
    "libors.append(r6)\n",
    "libors.append(r12_loglin)\n",
    "\n",
    "def S2_loglin(r24,r12,s):\n",
    "    df12 = DF_exp(r12, 12)\n",
    "    df6 = np.sqrt(df12)\n",
    "    df24=DF_exp(r24,24)\n",
    "    df18=np.sqrt(df12*df24)\n",
    "    price = 2*(1 - df24) / (df6 + df12 + df12+ df24)\n",
    "    return price - s\n",
    "\n",
    "r24_loglin = scipy.optimize.fsolve(lambda x: S2_loglin(x, r12_loglin, s2), r12_loglin)\n",
    "df24 = DF_exp(r24_loglin, 24)\n",
    "df18 = np.sqrt(df12*df24)\n",
    "r18=rate(df18,18)\n",
    "libors.append(r18)\n",
    "libors.append(r24_loglin)\n",
    "\n",
    "def S3_loglin(r36,r24,r12,s):\n",
    "    df12 = DF_exp(r12, 12)\n",
    "    df6 = np.sqrt(df12)\n",
    "    df24=DF_exp(r24,24)\n",
    "    df18=np.sqrt(df12*df24)\n",
    "    df36=DF_exp(r36,36)\n",
    "    df30=np.sqrt(df36*df24)\n",
    "    price = 2*(1 - df36) / (df6 + df12 + df12+ df24+df30+df36)\n",
    "    return price - s\n",
    "\n",
    "r36_loglin = scipy.optimize.fsolve(lambda x: S3_loglin(x, r24_loglin, r12_loglin, s3), r24_loglin)\n",
    "df36 = DF_exp(r36_loglin, 36)\n",
    "df30 = np.sqrt(df36*df24)\n",
    "r30=rate(df30,30)\n",
    "libors.append(r30)\n",
    "libors.append(r36_loglin)\n",
    "\n",
    "def S4_loglin(r48,r36,r24,r12,s):\n",
    "    df12 = DF_exp(r12, 12)\n",
    "    df6 = np.sqrt(df12)\n",
    "    df24=DF_exp(r24,24)\n",
    "    df18=np.sqrt(df12*df24)\n",
    "    df36=DF_exp(r36,36)\n",
    "    df30=np.sqrt(df36*df24)\n",
    "    df48=DF_exp(r48,48)\n",
    "    df42=np.sqrt(df48*df36)\n",
    "    price = 2*(1 - df48)/ (df6 + df12 + df12+ df24+df30+df36+df42+df48)\n",
    "    return price - s\n",
    "\n",
    "r48_loglin = scipy.optimize.fsolve(lambda x: S4_loglin(x, r36_loglin, r24_loglin, r12_loglin, s4), r36_loglin)\n",
    "df48 = DF_exp(r48_loglin, 48)\n",
    "df42 = np.sqrt(df36*df48)\n",
    "r42=rate(df42,42)\n",
    "libors.append(r42)\n",
    "libors.append(r48_loglin)\n",
    "\n",
    "def S5_loglin(r60,r48,r36,r24,r12,s):\n",
    "    df12 = DF_exp(r12, 12)\n",
    "    df6 = np.sqrt(df12)\n",
    "    df24=DF_exp(r24,24)\n",
    "    df18=np.sqrt(df12*df24)\n",
    "    df36=DF_exp(r36,36)\n",
    "    df30=np.sqrt(df36*df24)\n",
    "    df48=DF_exp(r48,48)\n",
    "    df42=np.sqrt(df48*df36)\n",
    "    df60=DF_exp(r60,60)\n",
    "    df54=np.sqrt(df60*df48)\n",
    "    price = 2*(1 - df60)/ (df6 + df12 + df12+ df24+df30+df36+df42+df48+df54+df60)\n",
    "    return price - s\n",
    "\n",
    "r60_loglin = scipy.optimize.fsolve(lambda x: S5_loglin(x, r48_loglin, r36_loglin, r24_loglin, r12_loglin, s5), r48_loglin)\n",
    "df60 = DF_exp(r60_loglin, 60)\n",
    "df54 = np.sqrt(df60*df48)\n",
    "r54=rate(df54,54)\n",
    "libors.append(r54)\n",
    "libors.append(r60_loglin)\n",
    "\n",
    "plt.plot([0,6,12,18,24,30,36,42,48,54,60] , libors)\n",
    "plt.title('EUR curve')\n",
    "plt.xlabel('Month')\n",
    "plt.ylabel('EUR_rate')\n",
    "plt.show()"
   ]
  }
 ],
 "metadata": {
  "kernelspec": {
   "display_name": "Python 3",
   "language": "python",
   "name": "python3"
  },
  "language_info": {
   "codemirror_mode": {
    "name": "ipython",
    "version": 3
   },
   "file_extension": ".py",
   "mimetype": "text/x-python",
   "name": "python",
   "nbconvert_exporter": "python",
   "pygments_lexer": "ipython3",
   "version": "3.7.4"
  },
  "name": "L3_bootstrapping.ipynb"
 },
 "nbformat": 4,
 "nbformat_minor": 1
}
